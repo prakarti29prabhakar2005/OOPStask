{
 "cells": [
  {
   "cell_type": "markdown",
   "id": "e7de5b72-dc24-4703-9519-a54db9169db0",
   "metadata": {},
   "source": [
    "Q1. Create a vehicle class with an init method having instance variables as name_of_vehicle, max_speed\n",
    "and average_of_vehicle."
   ]
  },
  {
   "cell_type": "code",
   "execution_count": 7,
   "id": "e7f6560f-3331-4e34-aa75-55633c0903aa",
   "metadata": {},
   "outputs": [],
   "source": [
    "class vehicle:\n",
    "    def __init__(self, name_of_vehicle, max_speed, average_of_vehicle):\n",
    "        self.name_of_vehicle = name_of_vehicle\n",
    "        self.max_speed = max_speed\n",
    "        self.average_of_vehicle = average_of_vehicle\n",
    "        \n",
    "my_vehicle = vehicle(\"punch\", 100, 60)"
   ]
  },
  {
   "cell_type": "markdown",
   "id": "f975521a-2123-4d51-be43-4ae926224bdc",
   "metadata": {},
   "source": [
    "Q2. Create a child class car from the vehicle class created in Que 1, which will inherit the vehicle class.\n",
    "Create a method named seating_capacity which takes capacity as an argument and returns the name of\n",
    "the vehicle and its seating capacity."
   ]
  },
  {
   "cell_type": "code",
   "execution_count": 12,
   "id": "4e1b9302-b30b-4eb2-a099-4d131551799a",
   "metadata": {},
   "outputs": [
    {
     "data": {
      "text/plain": [
       "'The {self.name_of_vehicle} has a seating capacity of {capacity}.'"
      ]
     },
     "execution_count": 12,
     "metadata": {},
     "output_type": "execute_result"
    }
   ],
   "source": [
    "class car(vehicle):\n",
    "    def __init__(self, name_of_vehicle, max_speed, average_of_vehicle):\n",
    "        super().__init__(name_of_vehicle, max_speed, average_of_vehicle)\n",
    "    def seating_capacity(self, capacity):\n",
    "        return \"The {self.name_of_vehicle} has a seating capacity of {capacity}.\"\n",
    "\n",
    "c = car(\"punch\", 100, 60)\n",
    "c.seating_capacity(4)"
   ]
  },
  {
   "cell_type": "code",
   "execution_count": 13,
   "id": "e1b011ec-ff0b-407c-963e-7cd2b113c859",
   "metadata": {},
   "outputs": [],
   "source": [
    "# Q3. What is multiple inheritance? Write a python code to demonstrate multiple inheritance."
   ]
  },
  {
   "cell_type": "code",
   "execution_count": 20,
   "id": "5b38bec0-fde5-413d-97e3-4c50336e7ac3",
   "metadata": {},
   "outputs": [],
   "source": [
    "# Multiple inheritance is a feature of OOPs where a class can inherit attributes and methods from more than one parent class. This allow a child class to utilize the features and behaviours of multiple parent class.\n",
    "class P1:\n",
    "    def test1(self):\n",
    "        return \"Parent1\"\n",
    "class P2:\n",
    "    def test2(self):\n",
    "        return \"Parent2\"\n",
    "class P3:\n",
    "    def test3(self):\n",
    "        return \"Parent3\"\n",
    "class child(P1, P2, P3):\n",
    "    def display(self):\n",
    "        pass"
   ]
  },
  {
   "cell_type": "code",
   "execution_count": 21,
   "id": "ff828248-ae1d-4a04-820f-14eec2ea1cda",
   "metadata": {},
   "outputs": [
    {
     "data": {
      "text/plain": [
       "'Parent1'"
      ]
     },
     "execution_count": 21,
     "metadata": {},
     "output_type": "execute_result"
    }
   ],
   "source": [
    "obj.test1()"
   ]
  },
  {
   "cell_type": "code",
   "execution_count": 22,
   "id": "ed9a9154-6131-427f-8420-0f776916c8b1",
   "metadata": {},
   "outputs": [
    {
     "data": {
      "text/plain": [
       "'Parent2'"
      ]
     },
     "execution_count": 22,
     "metadata": {},
     "output_type": "execute_result"
    }
   ],
   "source": [
    "obj.test2()"
   ]
  },
  {
   "cell_type": "code",
   "execution_count": 23,
   "id": "ef457285-c3da-48d5-84d9-ba94d126b990",
   "metadata": {},
   "outputs": [
    {
     "data": {
      "text/plain": [
       "'Parent3'"
      ]
     },
     "execution_count": 23,
     "metadata": {},
     "output_type": "execute_result"
    }
   ],
   "source": [
    "obj.test3()"
   ]
  },
  {
   "cell_type": "code",
   "execution_count": 24,
   "id": "2e01f7f8-990e-46c0-bf3c-57749660d3f1",
   "metadata": {},
   "outputs": [],
   "source": [
    "obj.display()"
   ]
  },
  {
   "cell_type": "markdown",
   "id": "3f8d54fb-ba31-489e-87bf-4a1af9e4fbb8",
   "metadata": {},
   "source": [
    "Q4. What are getter and setter in python? Create a class and create a getter and a setter method in this\n",
    "class."
   ]
  },
  {
   "cell_type": "code",
   "execution_count": 5,
   "id": "6aa72081-6abb-45b5-b3ea-989631dd581d",
   "metadata": {},
   "outputs": [],
   "source": [
    "#getter and setter methods are used to access and update the private attributes of a class, respectively. These methods help to control how the values of the private attributes are accessed and modified, allowing for encapsulation and data hiding.\n",
    "\n",
    "class details:\n",
    "    def __init__(self, name, email, mobile):\n",
    "        self.__name = name\n",
    "        self.__email = email\n",
    "        self.__mobile = mobile\n",
    "     \n",
    "    @property\n",
    "    def name(self):\n",
    "        return self.__name\n",
    "\n",
    "    @name.setter\n",
    "    def name(self, value):\n",
    "        self.__name = value\n",
    "\n",
    "    @property\n",
    "    def email(self):\n",
    "        return self.__email\n",
    "\n",
    "    @email.setter\n",
    "    def email(self, value):\n",
    "        self.__email = value\n",
    "\n",
    "    @property\n",
    "    def mobile(self):\n",
    "        return self.__mobile\n",
    "\n",
    "    @mobile.setter\n",
    "    def mobile(self, value):\n",
    "        self.__mobile = value"
   ]
  },
  {
   "cell_type": "code",
   "execution_count": 7,
   "id": "e6560f36-843d-4f20-b8f2-d898bea8cc00",
   "metadata": {},
   "outputs": [],
   "source": [
    "student = details(\"John Doe\", \"john.doe@example.com\", \"123-456-7890\")"
   ]
  },
  {
   "cell_type": "code",
   "execution_count": 8,
   "id": "39c6e1b2-711e-4f22-b65a-e3bbdb60cb40",
   "metadata": {},
   "outputs": [
    {
     "name": "stdout",
     "output_type": "stream",
     "text": [
      "John Doe\n"
     ]
    }
   ],
   "source": [
    "print(student.name)"
   ]
  },
  {
   "cell_type": "code",
   "execution_count": 10,
   "id": "b62eee8b-2afb-4ac1-9a0a-038c39412889",
   "metadata": {},
   "outputs": [
    {
     "name": "stdout",
     "output_type": "stream",
     "text": [
      "john.doe@example.com\n"
     ]
    }
   ],
   "source": [
    "print(student.email)"
   ]
  },
  {
   "cell_type": "code",
   "execution_count": 11,
   "id": "0914b58b-d9bd-48c8-89d9-2d0d55f1ee55",
   "metadata": {},
   "outputs": [
    {
     "name": "stdout",
     "output_type": "stream",
     "text": [
      "123-456-7890\n"
     ]
    }
   ],
   "source": [
    "print(student.mobile)"
   ]
  },
  {
   "cell_type": "code",
   "execution_count": 12,
   "id": "c0db9c78-446c-445a-86d1-baa9e8152eb8",
   "metadata": {},
   "outputs": [],
   "source": [
    "student.name = \"robert\""
   ]
  },
  {
   "cell_type": "code",
   "execution_count": 13,
   "id": "7ce172fe-b82d-445f-a782-2edff5a20472",
   "metadata": {},
   "outputs": [],
   "source": [
    "student.email = \"rob@123\""
   ]
  },
  {
   "cell_type": "code",
   "execution_count": 14,
   "id": "b0e94893-3f3a-413c-a199-20e10e5c17d1",
   "metadata": {},
   "outputs": [],
   "source": [
    "student.mobile = 34677"
   ]
  },
  {
   "cell_type": "code",
   "execution_count": 15,
   "id": "a97bc693-06e0-4cd6-a481-57a796b919d7",
   "metadata": {},
   "outputs": [
    {
     "name": "stdout",
     "output_type": "stream",
     "text": [
      "robert\n"
     ]
    }
   ],
   "source": [
    "print(student.name)"
   ]
  },
  {
   "cell_type": "code",
   "execution_count": 16,
   "id": "12540559-ea5c-43c3-99c9-afb9af122829",
   "metadata": {},
   "outputs": [
    {
     "name": "stdout",
     "output_type": "stream",
     "text": [
      "rob@123\n"
     ]
    }
   ],
   "source": [
    "print(student.email)"
   ]
  },
  {
   "cell_type": "code",
   "execution_count": 17,
   "id": "e0867654-5133-447e-bb8d-4875abdd8890",
   "metadata": {},
   "outputs": [
    {
     "name": "stdout",
     "output_type": "stream",
     "text": [
      "34677\n"
     ]
    }
   ],
   "source": [
    "print(student.mobile)"
   ]
  },
  {
   "cell_type": "markdown",
   "id": "78c43691-5957-4db9-94d9-1bc82e20bdaf",
   "metadata": {},
   "source": [
    "Q5.What is method overriding in python? Write a python code to demonstrate method overriding."
   ]
  },
  {
   "cell_type": "code",
   "execution_count": 19,
   "id": "66f0d6dd-6130-4b37-a5b4-ae6bc4d871b7",
   "metadata": {},
   "outputs": [],
   "source": [
    "# Method overriding is a feature in object-oriented programming where a subclass provides a specific implementation of a method that is already defined in its superclass. The overridden method in the subclass has the same name, parameters, and return type as the method in the superclass.\n",
    "\n"
   ]
  },
  {
   "cell_type": "code",
   "execution_count": null,
   "id": "533ba523-73ca-4631-844a-cdeb682838e5",
   "metadata": {},
   "outputs": [],
   "source": []
  }
 ],
 "metadata": {
  "kernelspec": {
   "display_name": "Python 3 (ipykernel)",
   "language": "python",
   "name": "python3"
  },
  "language_info": {
   "codemirror_mode": {
    "name": "ipython",
    "version": 3
   },
   "file_extension": ".py",
   "mimetype": "text/x-python",
   "name": "python",
   "nbconvert_exporter": "python",
   "pygments_lexer": "ipython3",
   "version": "3.10.8"
  }
 },
 "nbformat": 4,
 "nbformat_minor": 5
}
